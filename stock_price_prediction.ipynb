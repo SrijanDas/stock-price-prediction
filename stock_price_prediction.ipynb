{
  "nbformat": 4,
  "nbformat_minor": 0,
  "metadata": {
    "colab": {
      "name": "stock-price-prediction.ipynb",
      "provenance": [],
      "collapsed_sections": []
    },
    "kernelspec": {
      "name": "python3",
      "display_name": "Python 3"
    }
  },
  "cells": [
    {
      "cell_type": "markdown",
      "metadata": {
        "id": "to650B8IHigz"
      },
      "source": [
        "## Importing Libraries"
      ]
    },
    {
      "cell_type": "code",
      "metadata": {
        "id": "HMfrhm_Mw-gE"
      },
      "source": [
        "import numpy as np\r\n",
        "import pandas as pd\r\n",
        "import matplotlib.pyplot as plt\r\n",
        "%matplotlib inline"
      ],
      "execution_count": null,
      "outputs": []
    },
    {
      "cell_type": "markdown",
      "metadata": {
        "id": "uzaCcFg2H_zM"
      },
      "source": [
        "## Reading the dataset"
      ]
    },
    {
      "cell_type": "code",
      "metadata": {
        "colab": {
          "base_uri": "https://localhost:8080/",
          "height": 406
        },
        "id": "LGk9s1XLICm6",
        "outputId": "f2e5027d-c337-4d34-a183-dc5cf715684b"
      },
      "source": [
        "df = pd.read_csv('TCS.csv')\r\n",
        "df.head()"
      ],
      "execution_count": null,
      "outputs": [
        {
          "output_type": "execute_result",
          "data": {
            "text/html": [
              "<div>\n",
              "<style scoped>\n",
              "    .dataframe tbody tr th:only-of-type {\n",
              "        vertical-align: middle;\n",
              "    }\n",
              "\n",
              "    .dataframe tbody tr th {\n",
              "        vertical-align: top;\n",
              "    }\n",
              "\n",
              "    .dataframe thead th {\n",
              "        text-align: right;\n",
              "    }\n",
              "</style>\n",
              "<table border=\"1\" class=\"dataframe\">\n",
              "  <thead>\n",
              "    <tr style=\"text-align: right;\">\n",
              "      <th></th>\n",
              "      <th>Symbol</th>\n",
              "      <th>Series</th>\n",
              "      <th>Date</th>\n",
              "      <th>Prev Close</th>\n",
              "      <th>Open Price</th>\n",
              "      <th>High Price</th>\n",
              "      <th>Low Price</th>\n",
              "      <th>Last Price</th>\n",
              "      <th>Close Price</th>\n",
              "      <th>Average Price</th>\n",
              "      <th>Total Traded Quantity</th>\n",
              "      <th>Turnover</th>\n",
              "      <th>No. of Trades</th>\n",
              "      <th>Deliverable Qty</th>\n",
              "      <th>% Dly Qt to Traded Qty</th>\n",
              "    </tr>\n",
              "  </thead>\n",
              "  <tbody>\n",
              "    <tr>\n",
              "      <th>0</th>\n",
              "      <td>TCS</td>\n",
              "      <td>EQ</td>\n",
              "      <td>26-Dec-2018</td>\n",
              "      <td>1918.50</td>\n",
              "      <td>1921.8</td>\n",
              "      <td>1921.8</td>\n",
              "      <td>1870.25</td>\n",
              "      <td>1892.00</td>\n",
              "      <td>1889.20</td>\n",
              "      <td>1884.77</td>\n",
              "      <td>2446614</td>\n",
              "      <td>4.611298e+09</td>\n",
              "      <td>97165</td>\n",
              "      <td>1206484</td>\n",
              "      <td>49.31</td>\n",
              "    </tr>\n",
              "    <tr>\n",
              "      <th>1</th>\n",
              "      <td>TCS</td>\n",
              "      <td>EQ</td>\n",
              "      <td>27-Dec-2018</td>\n",
              "      <td>1889.20</td>\n",
              "      <td>1909.0</td>\n",
              "      <td>1941.7</td>\n",
              "      <td>1872.10</td>\n",
              "      <td>1909.10</td>\n",
              "      <td>1908.95</td>\n",
              "      <td>1920.44</td>\n",
              "      <td>4968201</td>\n",
              "      <td>9.541146e+09</td>\n",
              "      <td>143656</td>\n",
              "      <td>1869270</td>\n",
              "      <td>37.62</td>\n",
              "    </tr>\n",
              "    <tr>\n",
              "      <th>2</th>\n",
              "      <td>TCS</td>\n",
              "      <td>EQ</td>\n",
              "      <td>28-Dec-2018</td>\n",
              "      <td>1908.95</td>\n",
              "      <td>1915.0</td>\n",
              "      <td>1920.0</td>\n",
              "      <td>1893.00</td>\n",
              "      <td>1897.00</td>\n",
              "      <td>1896.05</td>\n",
              "      <td>1907.36</td>\n",
              "      <td>2239130</td>\n",
              "      <td>4.270838e+09</td>\n",
              "      <td>112230</td>\n",
              "      <td>1238176</td>\n",
              "      <td>55.30</td>\n",
              "    </tr>\n",
              "    <tr>\n",
              "      <th>3</th>\n",
              "      <td>TCS</td>\n",
              "      <td>EQ</td>\n",
              "      <td>31-Dec-2018</td>\n",
              "      <td>1896.05</td>\n",
              "      <td>1908.0</td>\n",
              "      <td>1909.0</td>\n",
              "      <td>1886.15</td>\n",
              "      <td>1894.75</td>\n",
              "      <td>1893.05</td>\n",
              "      <td>1896.42</td>\n",
              "      <td>1879740</td>\n",
              "      <td>3.564772e+09</td>\n",
              "      <td>66284</td>\n",
              "      <td>1025862</td>\n",
              "      <td>54.57</td>\n",
              "    </tr>\n",
              "    <tr>\n",
              "      <th>4</th>\n",
              "      <td>TCS</td>\n",
              "      <td>EQ</td>\n",
              "      <td>01-Jan-2019</td>\n",
              "      <td>1893.05</td>\n",
              "      <td>1896.0</td>\n",
              "      <td>1910.0</td>\n",
              "      <td>1885.00</td>\n",
              "      <td>1905.90</td>\n",
              "      <td>1902.80</td>\n",
              "      <td>1899.78</td>\n",
              "      <td>1094883</td>\n",
              "      <td>2.080034e+09</td>\n",
              "      <td>32636</td>\n",
              "      <td>489139</td>\n",
              "      <td>44.68</td>\n",
              "    </tr>\n",
              "  </tbody>\n",
              "</table>\n",
              "</div>"
            ],
            "text/plain": [
              "  Symbol Series  ... Deliverable Qty  % Dly Qt to Traded Qty\n",
              "0    TCS     EQ  ...         1206484                   49.31\n",
              "1    TCS     EQ  ...         1869270                   37.62\n",
              "2    TCS     EQ  ...         1238176                   55.30\n",
              "3    TCS     EQ  ...         1025862                   54.57\n",
              "4    TCS     EQ  ...          489139                   44.68\n",
              "\n",
              "[5 rows x 15 columns]"
            ]
          },
          "metadata": {
            "tags": []
          },
          "execution_count": 2
        }
      ]
    },
    {
      "cell_type": "markdown",
      "metadata": {
        "id": "1GCycrhpITbp"
      },
      "source": [
        "## Analyzing the closing price"
      ]
    },
    {
      "cell_type": "code",
      "metadata": {
        "colab": {
          "base_uri": "https://localhost:8080/",
          "height": 500
        },
        "id": "OqE68cH3IGvi",
        "outputId": "f928f3a1-9719-419f-fdc3-22f2fac5073f"
      },
      "source": [
        "df[\"Date\"]=pd.to_datetime(df.Date)\r\n",
        "df.index=df['Date']\r\n",
        "\r\n",
        "plt.figure(figsize=(16,8))\r\n",
        "plt.plot(df[\"Close Price\"],label='Close Price history')"
      ],
      "execution_count": null,
      "outputs": [
        {
          "output_type": "execute_result",
          "data": {
            "text/plain": [
              "[<matplotlib.lines.Line2D at 0x7fc2f1e79438>]"
            ]
          },
          "metadata": {
            "tags": []
          },
          "execution_count": 3
        },
        {
          "output_type": "display_data",
          "data": {
            "image/png": "[encoded data removed]",
            "text/plain": [
              "<Figure size 1152x576 with 1 Axes>"
            ]
          },
          "metadata": {
            "tags": [],
            "needs_background": "light"
          }
        }
      ]
    },
    {
      "cell_type": "markdown",
      "metadata": {
        "id": "1sTJnYyDNx1C"
      },
      "source": [
        "## Creating a new dataset with just \"Date\" and \"Closing Price\""
      ]
    },
    {
      "cell_type": "code",
      "metadata": {
        "id": "7Z8y2sUQIqX6",
        "colab": {
          "base_uri": "https://localhost:8080/"
        },
        "outputId": "9d9a733c-d7fd-4b43-8fb1-40bbbdaae10e"
      },
      "source": [
        "df2 = pd.DataFrame(index=range(0,len(df)),columns=['Date','Close'])\r\n",
        "\r\n",
        "for i in range(len(df)):\r\n",
        "  df2['Date'][i] = str(df['Date'][i]).split()[0]\r\n",
        "  df2['Close'][i] = df['Close Price'][i]\r\n",
        "df2.shape"
      ],
      "execution_count": null,
      "outputs": [
        {
          "output_type": "execute_result",
          "data": {
            "text/plain": [
              "(501, 2)"
            ]
          },
          "metadata": {
            "tags": []
          },
          "execution_count": 4
        }
      ]
    },
    {
      "cell_type": "markdown",
      "metadata": {
        "id": "IBan7i7iN8gk"
      },
      "source": [
        "## Normalize the new dataset"
      ]
    },
    {
      "cell_type": "code",
      "metadata": {
        "id": "yJiyBDg-OO29"
      },
      "source": [
        "from sklearn.preprocessing import MinMaxScaler"
      ],
      "execution_count": null,
      "outputs": []
    },
    {
      "cell_type": "code",
      "metadata": {
        "id": "I02XXiXRNTW6"
      },
      "source": [
        "scaler = MinMaxScaler(feature_range=(0, 1))"
      ],
      "execution_count": null,
      "outputs": []
    },
    {
      "cell_type": "code",
      "metadata": {
        "id": "8yU_6ZQ3odwW"
      },
      "source": [
        "training_set = df2['Close']\r\n",
        "training_set = pd.DataFrame(training_set)\r\n",
        "\r\n",
        "scaled_training_set = scaler.fit_transform(training_set)"
      ],
      "execution_count": null,
      "outputs": []
    },
    {
      "cell_type": "code",
      "metadata": {
        "id": "BvuRKd4Dp0sM"
      },
      "source": [
        "X_train, y_train = [], []\r\n",
        "\r\n",
        "for i in range(60, len(training_set)):\r\n",
        "  X_train.append(scaled_training_set[i-60:i, 0])\r\n",
        "  y_train.append(scaled_training_set[i, 0])\r\n",
        "\r\n",
        "X_train, y_train = np.array(X_train), np.array(y_train)\r\n",
        "\r\n",
        "# Reshaping\r\n",
        "X_train = np.reshape(X_train, (X_train.shape[0], X_train.shape[1], 1))"
      ],
      "execution_count": null,
      "outputs": []
    },
    {
      "cell_type": "markdown",
      "metadata": {
        "id": "IQfjh_2Sqx94"
      },
      "source": [
        "## Build and train the LSTM model"
      ]
    },
    {
      "cell_type": "code",
      "metadata": {
        "id": "pfeVlEe7q5sW"
      },
      "source": [
        "from tensorflow.keras.models import Sequential\r\n",
        "from tensorflow.keras.layers import Dense, Dropout, LSTM"
      ],
      "execution_count": null,
      "outputs": []
    },
    {
      "cell_type": "code",
      "metadata": {
        "id": "umQYCD9VrNZt"
      },
      "source": [
        "model = Sequential()"
      ],
      "execution_count": null,
      "outputs": []
    },
    {
      "cell_type": "code",
      "metadata": {
        "colab": {
          "base_uri": "https://localhost:8080/"
        },
        "id": "sjyKWaQjxje-",
        "outputId": "58b27c28-06d7-4130-ea7f-b7de6ea313e9"
      },
      "source": [
        "model.add(LSTM(units=50, return_sequences=True, input_shape=(X_train.shape[1], 1)))\r\n",
        "model.add(LSTM(units=50))\r\n",
        "model.add(Dense(units=1))\r\n",
        "\r\n",
        "print(model.summary())"
      ],
      "execution_count": null,
      "outputs": [
        {
          "output_type": "stream",
          "text": [
            "Model: \"sequential\"\n",
            "_________________________________________________________________\n",
            "Layer (type)                 Output Shape              Param #   \n",
            "=================================================================\n",
            "lstm (LSTM)                  (None, 60, 50)            10400     \n",
            "_________________________________________________________________\n",
            "lstm_1 (LSTM)                (None, 50)                20200     \n",
            "_________________________________________________________________\n",
            "dense (Dense)                (None, 1)                 51        \n",
            "=================================================================\n",
            "Total params: 30,651\n",
            "Trainable params: 30,651\n",
            "Non-trainable params: 0\n",
            "_________________________________________________________________\n",
            "None\n"
          ],
          "name": "stdout"
        }
      ]
    },
    {
      "cell_type": "code",
      "metadata": {
        "colab": {
          "base_uri": "https://localhost:8080/"
        },
        "id": "Qq-JUYQNy543",
        "outputId": "fd418f14-8fc2-4cfe-e112-b985b4971e69"
      },
      "source": [
        "model.compile(optimizer='adam', loss='mean_squared_error', metrics=['accuracy'])\r\n",
        "model.fit(X_train, y_train, epochs=100, batch_size=32)"
      ],
      "execution_count": null,
      "outputs": [
        {
          "output_type": "stream",
          "text": [
            "Epoch 1/100\n",
            "11/11 [==============================] - 4s 58ms/step - loss: 0.2959 - accuracy: 0.0000e+00\n",
            "Epoch 2/100\n",
            "11/11 [==============================] - 1s 60ms/step - loss: 0.0345 - accuracy: 0.0027\n",
            "Epoch 3/100\n",
            "11/11 [==============================] - 1s 60ms/step - loss: 0.0208 - accuracy: 0.0027\n",
            "Epoch 4/100\n",
            "11/11 [==============================] - 1s 60ms/step - loss: 0.0187 - accuracy: 0.0017\n",
            "Epoch 5/100\n",
            "11/11 [==============================] - 1s 61ms/step - loss: 0.0142 - accuracy: 0.0010\n",
            "Epoch 6/100\n",
            "11/11 [==============================] - 1s 61ms/step - loss: 0.0147 - accuracy: 0.0027\n",
            "Epoch 7/100\n",
            "11/11 [==============================] - 1s 62ms/step - loss: 0.0135 - accuracy: 0.0042\n",
            "Epoch 8/100\n",
            "11/11 [==============================] - 1s 61ms/step - loss: 0.0121 - accuracy: 0.0069\n",
            "Epoch 9/100\n",
            "11/11 [==============================] - 1s 67ms/step - loss: 0.0112 - accuracy: 0.0092\n",
            "Epoch 10/100\n",
            "11/11 [==============================] - 1s 61ms/step - loss: 0.0179 - accuracy: 0.0056\n",
            "Epoch 11/100\n",
            "11/11 [==============================] - 1s 62ms/step - loss: 0.0128 - accuracy: 0.0037\n",
            "Epoch 12/100\n",
            "11/11 [==============================] - 1s 61ms/step - loss: 0.0111 - accuracy: 0.0044\n",
            "Epoch 13/100\n",
            "11/11 [==============================] - 1s 60ms/step - loss: 0.0128 - accuracy: 0.0097\n",
            "Epoch 14/100\n",
            "11/11 [==============================] - 1s 62ms/step - loss: 0.0100 - accuracy: 0.0051\n",
            "Epoch 15/100\n",
            "11/11 [==============================] - 1s 64ms/step - loss: 0.0104 - accuracy: 0.0055\n",
            "Epoch 16/100\n",
            "11/11 [==============================] - 1s 60ms/step - loss: 0.0084 - accuracy: 0.0021\n",
            "Epoch 17/100\n",
            "11/11 [==============================] - 1s 61ms/step - loss: 0.0103 - accuracy: 0.0077\n",
            "Epoch 18/100\n",
            "11/11 [==============================] - 1s 58ms/step - loss: 0.0087 - accuracy: 0.0025\n",
            "Epoch 19/100\n",
            "11/11 [==============================] - 1s 61ms/step - loss: 0.0098 - accuracy: 0.0054\n",
            "Epoch 20/100\n",
            "11/11 [==============================] - 1s 63ms/step - loss: 0.0084 - accuracy: 0.0021\n",
            "Epoch 21/100\n",
            "11/11 [==============================] - 1s 63ms/step - loss: 0.0089 - accuracy: 9.8039e-04\n",
            "Epoch 22/100\n",
            "11/11 [==============================] - 1s 64ms/step - loss: 0.0091 - accuracy: 0.0015\n",
            "Epoch 23/100\n",
            "11/11 [==============================] - 1s 63ms/step - loss: 0.0087 - accuracy: 0.0028\n",
            "Epoch 24/100\n",
            "11/11 [==============================] - 1s 62ms/step - loss: 0.0074 - accuracy: 0.0097\n",
            "Epoch 25/100\n",
            "11/11 [==============================] - 1s 61ms/step - loss: 0.0077 - accuracy: 0.0063\n",
            "Epoch 26/100\n",
            "11/11 [==============================] - 1s 62ms/step - loss: 0.0086 - accuracy: 0.0049\n",
            "Epoch 27/100\n",
            "11/11 [==============================] - 1s 64ms/step - loss: 0.0076 - accuracy: 0.0037\n",
            "Epoch 28/100\n",
            "11/11 [==============================] - 1s 61ms/step - loss: 0.0067 - accuracy: 0.0053\n",
            "Epoch 29/100\n",
            "11/11 [==============================] - 1s 65ms/step - loss: 0.0086 - accuracy: 0.0021\n",
            "Epoch 30/100\n",
            "11/11 [==============================] - 1s 64ms/step - loss: 0.0072 - accuracy: 0.0053\n",
            "Epoch 31/100\n",
            "11/11 [==============================] - 1s 62ms/step - loss: 0.0075 - accuracy: 0.0097\n",
            "Epoch 32/100\n",
            "11/11 [==============================] - 1s 63ms/step - loss: 0.0079 - accuracy: 0.0034\n",
            "Epoch 33/100\n",
            "11/11 [==============================] - 1s 66ms/step - loss: 0.0068 - accuracy: 0.0082\n",
            "Epoch 34/100\n",
            "11/11 [==============================] - 1s 63ms/step - loss: 0.0086 - accuracy: 0.0021\n",
            "Epoch 35/100\n",
            "11/11 [==============================] - 1s 62ms/step - loss: 0.0069 - accuracy: 0.0037\n",
            "Epoch 36/100\n",
            "11/11 [==============================] - 1s 64ms/step - loss: 0.0069 - accuracy: 0.0089\n",
            "Epoch 37/100\n",
            "11/11 [==============================] - 1s 61ms/step - loss: 0.0060 - accuracy: 0.0092\n",
            "Epoch 38/100\n",
            "11/11 [==============================] - 1s 63ms/step - loss: 0.0063 - accuracy: 0.0044\n",
            "Epoch 39/100\n",
            "11/11 [==============================] - 1s 63ms/step - loss: 0.0064 - accuracy: 0.0044\n",
            "Epoch 40/100\n",
            "11/11 [==============================] - 1s 61ms/step - loss: 0.0069 - accuracy: 0.0063\n",
            "Epoch 41/100\n",
            "11/11 [==============================] - 1s 63ms/step - loss: 0.0064 - accuracy: 0.0063\n",
            "Epoch 42/100\n",
            "11/11 [==============================] - 1s 61ms/step - loss: 0.0071 - accuracy: 0.0063\n",
            "Epoch 43/100\n",
            "11/11 [==============================] - 1s 63ms/step - loss: 0.0052 - accuracy: 0.0034\n",
            "Epoch 44/100\n",
            "11/11 [==============================] - 1s 61ms/step - loss: 0.0066 - accuracy: 0.0041\n",
            "Epoch 45/100\n",
            "11/11 [==============================] - 1s 65ms/step - loss: 0.0064 - accuracy: 0.0041\n",
            "Epoch 46/100\n",
            "11/11 [==============================] - 1s 67ms/step - loss: 0.0055 - accuracy: 0.0021\n",
            "Epoch 47/100\n",
            "11/11 [==============================] - 1s 62ms/step - loss: 0.0059 - accuracy: 0.0073\n",
            "Epoch 48/100\n",
            "11/11 [==============================] - 1s 65ms/step - loss: 0.0053 - accuracy: 0.0095\n",
            "Epoch 49/100\n",
            "11/11 [==============================] - 1s 64ms/step - loss: 0.0067 - accuracy: 0.0041\n",
            "Epoch 50/100\n",
            "11/11 [==============================] - 1s 66ms/step - loss: 0.0053 - accuracy: 0.0076\n",
            "Epoch 51/100\n",
            "11/11 [==============================] - 1s 66ms/step - loss: 0.0064 - accuracy: 0.0076\n",
            "Epoch 52/100\n",
            "11/11 [==============================] - 1s 62ms/step - loss: 0.0053 - accuracy: 0.0039\n",
            "Epoch 53/100\n",
            "11/11 [==============================] - 1s 62ms/step - loss: 0.0056 - accuracy: 0.0035\n",
            "Epoch 54/100\n",
            "11/11 [==============================] - 1s 64ms/step - loss: 0.0057 - accuracy: 0.0115\n",
            "Epoch 55/100\n",
            "11/11 [==============================] - 1s 64ms/step - loss: 0.0054 - accuracy: 0.0032\n",
            "Epoch 56/100\n",
            "11/11 [==============================] - 1s 65ms/step - loss: 0.0044 - accuracy: 0.0031\n",
            "Epoch 57/100\n",
            "11/11 [==============================] - 1s 64ms/step - loss: 0.0041 - accuracy: 0.0056\n",
            "Epoch 58/100\n",
            "11/11 [==============================] - 1s 64ms/step - loss: 0.0049 - accuracy: 0.0047\n",
            "Epoch 59/100\n",
            "11/11 [==============================] - 1s 65ms/step - loss: 0.0048 - accuracy: 0.0035\n",
            "Epoch 60/100\n",
            "11/11 [==============================] - 1s 63ms/step - loss: 0.0049 - accuracy: 0.0039\n",
            "Epoch 61/100\n",
            "11/11 [==============================] - 1s 63ms/step - loss: 0.0044 - accuracy: 0.0056\n",
            "Epoch 62/100\n",
            "11/11 [==============================] - 1s 63ms/step - loss: 0.0039 - accuracy: 0.0066\n",
            "Epoch 63/100\n",
            "11/11 [==============================] - 1s 62ms/step - loss: 0.0052 - accuracy: 0.0047\n",
            "Epoch 64/100\n",
            "11/11 [==============================] - 1s 63ms/step - loss: 0.0054 - accuracy: 0.0123\n",
            "Epoch 65/100\n",
            "11/11 [==============================] - 1s 63ms/step - loss: 0.0047 - accuracy: 0.0027\n",
            "Epoch 66/100\n",
            "11/11 [==============================] - 1s 65ms/step - loss: 0.0047 - accuracy: 0.0089\n",
            "Epoch 67/100\n",
            "11/11 [==============================] - 1s 64ms/step - loss: 0.0046 - accuracy: 0.0064\n",
            "Epoch 68/100\n",
            "11/11 [==============================] - 1s 66ms/step - loss: 0.0048 - accuracy: 0.0162\n",
            "Epoch 69/100\n",
            "11/11 [==============================] - 1s 64ms/step - loss: 0.0040 - accuracy: 0.0027\n",
            "Epoch 70/100\n",
            "11/11 [==============================] - 1s 65ms/step - loss: 0.0039 - accuracy: 0.0059\n",
            "Epoch 71/100\n",
            "11/11 [==============================] - 1s 64ms/step - loss: 0.0040 - accuracy: 0.0024\n",
            "Epoch 72/100\n",
            "11/11 [==============================] - 1s 66ms/step - loss: 0.0042 - accuracy: 0.0063\n",
            "Epoch 73/100\n",
            "11/11 [==============================] - 1s 65ms/step - loss: 0.0044 - accuracy: 0.0092\n",
            "Epoch 74/100\n",
            "11/11 [==============================] - 1s 65ms/step - loss: 0.0041 - accuracy: 0.0054\n",
            "Epoch 75/100\n",
            "11/11 [==============================] - 1s 66ms/step - loss: 0.0041 - accuracy: 0.0097\n",
            "Epoch 76/100\n",
            "11/11 [==============================] - 1s 65ms/step - loss: 0.0038 - accuracy: 0.0086\n",
            "Epoch 77/100\n",
            "11/11 [==============================] - 1s 62ms/step - loss: 0.0049 - accuracy: 0.0025\n",
            "Epoch 78/100\n",
            "11/11 [==============================] - 1s 65ms/step - loss: 0.0045 - accuracy: 0.0099\n",
            "Epoch 79/100\n",
            "11/11 [==============================] - 1s 63ms/step - loss: 0.0047 - accuracy: 0.0039\n",
            "Epoch 80/100\n",
            "11/11 [==============================] - 1s 63ms/step - loss: 0.0036 - accuracy: 0.0064\n",
            "Epoch 81/100\n",
            "11/11 [==============================] - 1s 64ms/step - loss: 0.0056 - accuracy: 0.0103\n",
            "Epoch 82/100\n",
            "11/11 [==============================] - 1s 61ms/step - loss: 0.0047 - accuracy: 0.0018\n",
            "Epoch 83/100\n",
            "11/11 [==============================] - 1s 63ms/step - loss: 0.0040 - accuracy: 0.0115\n",
            "Epoch 84/100\n",
            "11/11 [==============================] - 1s 62ms/step - loss: 0.0041 - accuracy: 0.0035\n",
            "Epoch 85/100\n",
            "11/11 [==============================] - 1s 62ms/step - loss: 0.0037 - accuracy: 0.0089\n",
            "Epoch 86/100\n",
            "11/11 [==============================] - 1s 66ms/step - loss: 0.0035 - accuracy: 0.0039\n",
            "Epoch 87/100\n",
            "11/11 [==============================] - 1s 62ms/step - loss: 0.0039 - accuracy: 0.0044\n",
            "Epoch 88/100\n",
            "11/11 [==============================] - 1s 67ms/step - loss: 0.0035 - accuracy: 0.0095\n",
            "Epoch 89/100\n",
            "11/11 [==============================] - 1s 66ms/step - loss: 0.0039 - accuracy: 0.0022\n",
            "Epoch 90/100\n",
            "11/11 [==============================] - 1s 64ms/step - loss: 0.0039 - accuracy: 0.0053\n",
            "Epoch 91/100\n",
            "11/11 [==============================] - 1s 64ms/step - loss: 0.0040 - accuracy: 0.0123\n",
            "Epoch 92/100\n",
            "11/11 [==============================] - 1s 65ms/step - loss: 0.0044 - accuracy: 0.0012\n",
            "Epoch 93/100\n",
            "11/11 [==============================] - 1s 63ms/step - loss: 0.0053 - accuracy: 0.0051\n",
            "Epoch 94/100\n",
            "11/11 [==============================] - 1s 64ms/step - loss: 0.0042 - accuracy: 0.0060\n",
            "Epoch 95/100\n",
            "11/11 [==============================] - 1s 64ms/step - loss: 0.0036 - accuracy: 0.0064\n",
            "Epoch 96/100\n",
            "11/11 [==============================] - 1s 65ms/step - loss: 0.0039 - accuracy: 0.0031\n",
            "Epoch 97/100\n",
            "11/11 [==============================] - 1s 67ms/step - loss: 0.0036 - accuracy: 0.0123\n",
            "Epoch 98/100\n",
            "11/11 [==============================] - 1s 65ms/step - loss: 0.0039 - accuracy: 0.0136\n",
            "Epoch 99/100\n",
            "11/11 [==============================] - 1s 64ms/step - loss: 0.0036 - accuracy: 0.0077\n",
            "Epoch 100/100\n",
            "11/11 [==============================] - 1s 63ms/step - loss: 0.0037 - accuracy: 0.0097\n"
          ],
          "name": "stdout"
        },
        {
          "output_type": "execute_result",
          "data": {
            "text/plain": [
              "<tensorflow.python.keras.callbacks.History at 0x7fc2acea4b70>"
            ]
          },
          "metadata": {
            "tags": []
          },
          "execution_count": 12
        }
      ]
    },
    {
      "cell_type": "code",
      "metadata": {
        "colab": {
          "base_uri": "https://localhost:8080/"
        },
        "id": "NXBYlxh700fm",
        "outputId": "7f4c0806-fe7a-44c0-a9c9-82f57abcfed2"
      },
      "source": [
        "model.save('stock_price_prediction.model')"
      ],
      "execution_count": null,
      "outputs": [
        {
          "output_type": "stream",
          "text": [
            "WARNING:absl:Found untraced functions such as lstm_cell_layer_call_fn, lstm_cell_layer_call_and_return_conditional_losses, lstm_cell_1_layer_call_fn, lstm_cell_1_layer_call_and_return_conditional_losses, lstm_cell_layer_call_fn while saving (showing 5 of 10). These functions will not be directly callable after loading.\n",
            "WARNING:absl:Found untraced functions such as lstm_cell_layer_call_fn, lstm_cell_layer_call_and_return_conditional_losses, lstm_cell_1_layer_call_fn, lstm_cell_1_layer_call_and_return_conditional_losses, lstm_cell_layer_call_fn while saving (showing 5 of 10). These functions will not be directly callable after loading.\n"
          ],
          "name": "stderr"
        },
        {
          "output_type": "stream",
          "text": [
            "INFO:tensorflow:Assets written to: stock_price_prediction.model/assets\n"
          ],
          "name": "stdout"
        },
        {
          "output_type": "stream",
          "text": [
            "INFO:tensorflow:Assets written to: stock_price_prediction.model/assets\n"
          ],
          "name": "stderr"
        }
      ]
    },
    {
      "cell_type": "markdown",
      "metadata": {
        "id": "aNWdyESh4KV_"
      },
      "source": [
        "## Testing"
      ]
    },
    {
      "cell_type": "code",
      "metadata": {
        "id": "0KVFJyYe4M7b"
      },
      "source": [
        "test_data = df2['Close'][400:]\r\n",
        "\r\n",
        "inputs_data = df2['Close'][len(df2)-len(test_data)-60:].values\r\n",
        "inputs_data = inputs_data.reshape(-1,1)\r\n",
        "inputs_data = scaler.transform(inputs_data)"
      ],
      "execution_count": null,
      "outputs": []
    },
    {
      "cell_type": "code",
      "metadata": {
        "id": "p8z28oq24l-m"
      },
      "source": [
        "X_test = []\r\n",
        "for i in range(60, inputs_data.shape[0]):\r\n",
        "    X_test.append(inputs_data[i-60:i, 0])\r\n",
        "X_test = np.array(X_test)\r\n",
        "\r\n",
        "X_test = np.reshape(X_test, (X_test.shape[0], X_test.shape[1], 1))\r\n",
        "\r\n",
        "predicted_closing_price = model.predict(X_test)\r\n",
        "predicted_closing_price = scaler.inverse_transform(predicted_closing_price)"
      ],
      "execution_count": null,
      "outputs": []
    },
    {
      "cell_type": "markdown",
      "metadata": {
        "id": "PcAkxYIz5UlC"
      },
      "source": [
        "## Visualizing predicted price"
      ]
    },
    {
      "cell_type": "code",
      "metadata": {
        "colab": {
          "base_uri": "https://localhost:8080/",
          "height": 507
        },
        "id": "zcC6isVM5RHH",
        "outputId": "a333891b-036c-4b3a-ea71-b6866f7cf68f"
      },
      "source": [
        "train_data = df2[:400]\r\n",
        "valid_data = df2[400:]\r\n",
        "valid_data['Predictions'] = predicted_closing_price\r\n",
        "\r\n",
        "print(valid_data.head())\r\n",
        "\r\n",
        "plt.plot(train_data[\"Close\"])\r\n",
        "plt.plot(valid_data[['Close',\"Predictions\"]])\r\n"
      ],
      "execution_count": null,
      "outputs": [
        {
          "output_type": "stream",
          "text": [
            "           Date    Close  Predictions\n",
            "400  2020-08-04   2249.7  2245.918945\n",
            "401  2020-08-05   2259.5  2237.169922\n",
            "402  2020-08-06   2308.1  2245.771729\n",
            "403  2020-08-07  2295.35  2287.220459\n",
            "404  2020-08-10   2282.8  2286.062744\n"
          ],
          "name": "stdout"
        },
        {
          "output_type": "stream",
          "text": [
            "/usr/local/lib/python3.6/dist-packages/ipykernel_launcher.py:3: SettingWithCopyWarning: \n",
            "A value is trying to be set on a copy of a slice from a DataFrame.\n",
            "Try using .loc[row_indexer,col_indexer] = value instead\n",
            "\n",
            "See the caveats in the documentation: https://pandas.pydata.org/pandas-docs/stable/user_guide/indexing.html#returning-a-view-versus-a-copy\n",
            "  This is separate from the ipykernel package so we can avoid doing imports until\n"
          ],
          "name": "stderr"
        },
        {
          "output_type": "execute_result",
          "data": {
            "text/plain": [
              "[<matplotlib.lines.Line2D at 0x7fc2a97b9da0>,\n",
              " <matplotlib.lines.Line2D at 0x7fc2a97b94e0>]"
            ]
          },
          "metadata": {
            "tags": []
          },
          "execution_count": 47
        },
        {
          "output_type": "display_data",
          "data": {
            "image/png": "[encoded data removed]",
            "text/plain": [
              "<Figure size 432x288 with 1 Axes>"
            ]
          },
          "metadata": {
            "tags": [],
            "needs_background": "light"
          }
        }
      ]
    },
    {
      "cell_type": "code",
      "metadata": {
        "id": "Q6HRnP8j5Hcj"
      },
      "source": [
        ""
      ],
      "execution_count": null,
      "outputs": []
    }
  ]
}